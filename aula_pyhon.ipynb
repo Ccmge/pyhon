{
  "nbformat": 4,
  "nbformat_minor": 0,
  "metadata": {
    "colab": {
      "provenance": [],
      "authorship_tag": "ABX9TyNj6yJMqEQa9oAx0jENTR54",
      "include_colab_link": true
    },
    "kernelspec": {
      "name": "python3",
      "display_name": "Python 3"
    },
    "language_info": {
      "name": "python"
    }
  },
  "cells": [
    {
      "cell_type": "markdown",
      "metadata": {
        "id": "view-in-github",
        "colab_type": "text"
      },
      "source": [
        "<a href=\"https://colab.research.google.com/github/Ccmge/pyhon/blob/main/aula_pyhon.ipynb\" target=\"_parent\"><img src=\"https://colab.research.google.com/assets/colab-badge.svg\" alt=\"Open In Colab\"/></a>"
      ]
    },
    {
      "cell_type": "markdown",
      "source": [
        "Aula 1"
      ],
      "metadata": {
        "id": "AEgmL2ogyWMv"
      }
    },
    {
      "cell_type": "code",
      "source": [
        "print(\"I competição de programação dá Start\")\n",
        "ano = \"IX\"\n",
        "print(ano, \"competição de programação da Start\")\n",
        "print(f\"{ano} competição de programação da Start\")"
      ],
      "metadata": {
        "colab": {
          "base_uri": "https://localhost:8080/"
        },
        "id": "vOvFKfPAyuVK",
        "outputId": "c3d8173c-a55c-43c9-8d0f-0dd97f6652f9"
      },
      "execution_count": 6,
      "outputs": [
        {
          "output_type": "stream",
          "name": "stdout",
          "text": [
            "I competição de programação dá Start\n",
            "IX competição de programação da Start\n",
            "IX competição de programação da Start\n"
          ]
        }
      ]
    },
    {
      "cell_type": "markdown",
      "source": [
        "Aula2"
      ],
      "metadata": {
        "id": "tPudDoph05qj"
      }
    },
    {
      "cell_type": "code",
      "source": [
        "livro_ficcao = 8\n",
        "livro_n_ficcao = 10\n",
        "livro_infantil = 6\n",
        "pontos_rodrigo = livro_ficcao + livro_n_ficcao + livro_infantil]\n",
        "print(f\"Os pontos totais do Rodrigo são {pontos_rodrigo}\")"
      ],
      "metadata": {
        "id": "C_ezGsnF0-vt"
      },
      "execution_count": null,
      "outputs": []
    }
  ]
}